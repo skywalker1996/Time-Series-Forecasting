{
 "cells": [
  {
   "cell_type": "code",
   "execution_count": 16,
   "metadata": {},
   "outputs": [
    {
     "name": "stdout",
     "output_type": "stream",
     "text": [
      "epoch #0 loss: 1.7624417626488832e+16\n",
      "epoch #1 loss: 14642560630784.0\n",
      "epoch #2 loss: 162054553600.0\n",
      "epoch #3 loss: 536756224.0\n",
      "epoch #4 loss: 2768896.0\n",
      "epoch #5 loss: 16384.0\n",
      "epoch #6 loss: 0.0\n",
      "epoch #7 loss: 0.0\n",
      "epoch #8 loss: 0.0\n",
      "epoch #9 loss: 0.0\n",
      "epoch #10 loss: 0.0\n",
      "epoch #11 loss: 0.0\n",
      "epoch #12 loss: 0.0\n",
      "epoch #13 loss: 0.0\n",
      "epoch #14 loss: 0.0\n",
      "epoch #15 loss: 0.0\n",
      "epoch #16 loss: 0.0\n",
      "epoch #17 loss: 0.0\n",
      "epoch #18 loss: 0.0\n",
      "epoch #19 loss: 0.0\n",
      "train success!\n",
      "total =  822\n",
      "4\n",
      "2\n",
      "RTT实际增大，预测增大的次数： 0.0\n",
      "RTT实际增大，预测减小的次数： 0.0\n",
      "RTT实际减小，预测增大的次数： 0.0\n",
      "RTT实际减小，预测减小的次数： 0.0\n",
      "\n",
      "精确率 = nan%\n",
      "召回率 = nan%\n"
     ]
    },
    {
     "name": "stderr",
     "output_type": "stream",
     "text": [
      "/home/zhijian/workspace_fast/workspace/Time-Series-Forecasting/rtt-prediction/LSTM-based/main_reg_cla.py:110: RuntimeWarning: invalid value encountered in float_scalars\n",
      "  print('精确率 = {}%'.format(round(confusion[0][0]/(confusion[0][0]+confusion[1][0]) * 100, 2)))\n",
      "/home/zhijian/workspace_fast/workspace/Time-Series-Forecasting/rtt-prediction/LSTM-based/main_reg_cla.py:111: RuntimeWarning: invalid value encountered in float_scalars\n",
      "  print('召回率 = {}%'.format(round(confusion[0][0]/(confusion[0][0]+confusion[0][1]) * 100, 2)))\n"
     ]
    }
   ],
   "source": [
    "%run main_reg_cla.py\n"
   ]
  },
  {
   "cell_type": "code",
   "execution_count": 17,
   "metadata": {},
   "outputs": [
    {
     "data": {
      "text/plain": [
       "array([ 47., 102., 140., ..., 123., 148., 133.])"
      ]
     },
     "execution_count": 17,
     "metadata": {},
     "output_type": "execute_result"
    }
   ],
   "source": [
    "import pandas\n",
    "train_df = pandas.read_csv('./data/train.csv')\n",
    "raw_data = train_df['rtt'].values\n",
    "raw_data"
   ]
  },
  {
   "cell_type": "code",
   "execution_count": 46,
   "metadata": {},
   "outputs": [],
   "source": [
    "raw_data = train_df[train_df['building_id'].apply(lambda x:x==1)&\n",
    "             train_df['meter_reading'].apply(lambda x:x>0)&\n",
    "             train_df['meter'].apply(lambda x:x==0)]"
   ]
  },
  {
   "cell_type": "code",
   "execution_count": 7,
   "metadata": {},
   "outputs": [
    {
     "ename": "AttributeError",
     "evalue": "'numpy.ndarray' object has no attribute 'values'",
     "output_type": "error",
     "traceback": [
      "\u001b[0;31m---------------------------------------------------------------------------\u001b[0m",
      "\u001b[0;31mAttributeError\u001b[0m                            Traceback (most recent call last)",
      "\u001b[0;32m/tmp/ipykernel_3199243/208317852.py\u001b[0m in \u001b[0;36m<module>\u001b[0;34m\u001b[0m\n\u001b[0;32m----> 1\u001b[0;31m \u001b[0mraw_data\u001b[0m\u001b[0;34m.\u001b[0m\u001b[0mvalues\u001b[0m\u001b[0;34m[\u001b[0m\u001b[0;36m200\u001b[0m\u001b[0;34m:\u001b[0m\u001b[0;34m]\u001b[0m\u001b[0;34m\u001b[0m\u001b[0;34m\u001b[0m\u001b[0m\n\u001b[0m",
      "\u001b[0;31mAttributeError\u001b[0m: 'numpy.ndarray' object has no attribute 'values'"
     ]
    }
   ],
   "source": [
    "raw_data.values[200:]"
   ]
  },
  {
   "cell_type": "code",
   "execution_count": 1,
   "metadata": {},
   "outputs": [],
   "source": [
    "import torch\n",
    "import numpy as np"
   ]
  },
  {
   "cell_type": "code",
   "execution_count": 74,
   "metadata": {},
   "outputs": [],
   "source": [
    "a = np.array([1,2,3])\n",
    "b = a[2:3]"
   ]
  },
  {
   "cell_type": "code",
   "execution_count": 78,
   "metadata": {},
   "outputs": [
    {
     "name": "stdout",
     "output_type": "stream",
     "text": [
      "tensor(3)\n"
     ]
    }
   ],
   "source": [
    "t1 = torch.from_numpy(b)\n",
    "print(t1[0] > )"
   ]
  },
  {
   "cell_type": "code",
   "execution_count": 7,
   "metadata": {},
   "outputs": [
    {
     "data": {
      "text/plain": [
       "tensor([[0.4000, 0.6000],\n",
       "        [0.8000, 0.2000]])"
      ]
     },
     "execution_count": 7,
     "metadata": {},
     "output_type": "execute_result"
    }
   ],
   "source": [
    "a = []\n",
    "a.append([0.4,0.6])\n",
    "a.append([0.8,0.2])\n",
    "a = torch.tensor(a)\n",
    "a"
   ]
  },
  {
   "cell_type": "code",
   "execution_count": 11,
   "metadata": {},
   "outputs": [],
   "source": [
    "_, pred = torch.max(a,dim=1)"
   ]
  },
  {
   "cell_type": "code",
   "execution_count": 12,
   "metadata": {},
   "outputs": [
    {
     "data": {
      "text/plain": [
       "tensor([1, 0])"
      ]
     },
     "execution_count": 12,
     "metadata": {},
     "output_type": "execute_result"
    }
   ],
   "source": [
    "pred"
   ]
  },
  {
   "cell_type": "code",
   "execution_count": 14,
   "metadata": {},
   "outputs": [
    {
     "data": {
      "text/plain": [
       "array([1, 2, 0])"
      ]
     },
     "execution_count": 14,
     "metadata": {},
     "output_type": "execute_result"
    }
   ],
   "source": [
    "a = np.array([1,2,3])\n",
    "b = np.array([1,1,0])\n",
    "a*b"
   ]
  },
  {
   "cell_type": "code",
   "execution_count": 41,
   "metadata": {},
   "outputs": [],
   "source": [
    "import json"
   ]
  },
  {
   "cell_type": "code",
   "execution_count": 42,
   "metadata": {},
   "outputs": [],
   "source": [
    "a = '1'*1400"
   ]
  },
  {
   "cell_type": "code",
   "execution_count": 46,
   "metadata": {},
   "outputs": [],
   "source": [
    "data = {}\n",
    "data['source_ip'] = '10.0.0.1'\n",
    "data['des_ip'] = '10.0.0.2'\n",
    "data['des_port'] = '8890'\n",
    "data['data'] = a\n"
   ]
  },
  {
   "cell_type": "code",
   "execution_count": 47,
   "metadata": {},
   "outputs": [],
   "source": [
    "df = json.dumps(data).encode()"
   ]
  },
  {
   "cell_type": "code",
   "execution_count": 48,
   "metadata": {},
   "outputs": [
    {
     "data": {
      "text/plain": [
       "1480"
      ]
     },
     "execution_count": 48,
     "metadata": {},
     "output_type": "execute_result"
    }
   ],
   "source": [
    "len(df)"
   ]
  },
  {
   "cell_type": "code",
   "execution_count": 58,
   "metadata": {},
   "outputs": [
    {
     "data": {
      "text/plain": [
       "851820014"
      ]
     },
     "execution_count": 58,
     "metadata": {},
     "output_type": "execute_result"
    }
   ],
   "source": [
    "import time\n",
    "int((time.time()%(10**3))*1000000) #ns"
   ]
  },
  {
   "cell_type": "code",
   "execution_count": 23,
   "metadata": {},
   "outputs": [
    {
     "data": {
      "text/plain": [
       "-1.3092033499035045"
      ]
     },
     "execution_count": 23,
     "metadata": {},
     "output_type": "execute_result"
    }
   ],
   "source": [
    "a = 1.43134\n",
    "round(a,5)\n",
    "import numpy as np\n",
    "np.random.randn()"
   ]
  },
  {
   "cell_type": "code",
   "execution_count": 36,
   "metadata": {},
   "outputs": [
    {
     "name": "stdout",
     "output_type": "stream",
     "text": [
      "[14.45880869830878, 18.007506225598412, 21.27515393221405, 30.022137371767947, 36.505817057180444, 40.8862498956218, 45.60714178346188, 51.96743154003641, 55.793353941982936, 62.455061508038625, 63.77659619579389, 70.71706447660809, 73.22408382626914, 83.91492600351039, 87.58272240571223, 92.41821212483008, 95.276039293807, 97.94532626003101, 99.76634556651652, 94.34917286884146, 90.83324924644465, 82.86824597912769, 78.73303309983186, 78.10195770515656, 69.79088361745895, 67.45308337424052, 60.02116722730889, 53.31839138148113, 50.31383792959676, 42.087057569492856, 39.8534073648059, 35.06390001610491, 27.021366063790392, 22.97872023180355, 19.09474181512331, 13.783536019492374]\n"
     ]
    }
   ],
   "source": [
    "import numpy as np\n",
    "\n",
    "Bandwidth_base = np.arange(15,101,5)\n",
    "Bandwidth_seq = []\n",
    "\n",
    "for bd in Bandwidth_base:\n",
    "    err = np.random.randn()\n",
    "    Bandwidth_seq.append(bd+2*err)\n",
    "\n",
    "for bd in Bandwidth_base[::-1]:\n",
    "    err = np.random.randn()\n",
    "    Bandwidth_seq.append(bd+2*err)\n",
    "\n",
    "print(Bandwidth_seq)\n"
   ]
  },
  {
   "cell_type": "code",
   "execution_count": null,
   "metadata": {},
   "outputs": [],
   "source": []
  }
 ],
 "metadata": {
  "kernelspec": {
   "display_name": "Python 3 (ipykernel)",
   "language": "python",
   "name": "python3"
  },
  "language_info": {
   "codemirror_mode": {
    "name": "ipython",
    "version": 3
   },
   "file_extension": ".py",
   "mimetype": "text/x-python",
   "name": "python",
   "nbconvert_exporter": "python",
   "pygments_lexer": "ipython3",
   "version": "3.8.10"
  }
 },
 "nbformat": 4,
 "nbformat_minor": 4
}
