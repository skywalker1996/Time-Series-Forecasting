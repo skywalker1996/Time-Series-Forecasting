{
 "cells": [
  {
   "cell_type": "code",
   "execution_count": 1,
   "metadata": {},
   "outputs": [],
   "source": [
    "from torch.utils.data import DataLoader,Dataset\n",
    "import torch\n",
    "import pandas \n"
   ]
  },
  {
   "cell_type": "code",
   "execution_count": 6,
   "metadata": {},
   "outputs": [
    {
     "data": {
      "text/plain": [
       "[10, 11, 12, 13, 14, 15, 16, 17, 18, 19]"
      ]
     },
     "execution_count": 6,
     "metadata": {},
     "output_type": "execute_result"
    }
   ],
   "source": [
    "delay = list(range(10))\n",
    "loss = list(range(10,20))"
   ]
  },
  {
   "cell_type": "code",
   "execution_count": 15,
   "metadata": {},
   "outputs": [],
   "source": [
    "dataframe = pd.DataFrame({'delay':delay,'loss':loss})\n",
    "\n",
    "#将DataFrame存储为csv,index表示是否显示行名，default=True\n",
    "dataframe.to_csv(\"test.csv\",index=False,sep=',')"
   ]
  },
  {
   "cell_type": "code",
   "execution_count": 17,
   "metadata": {},
   "outputs": [],
   "source": [
    "data = pd.read_csv(\"test.csv\")\n",
    " "
   ]
  },
  {
   "cell_type": "code",
   "execution_count": 32,
   "metadata": {},
   "outputs": [],
   "source": [
    "package = ('1'*1500).encode()"
   ]
  },
  {
   "cell_type": "code",
   "execution_count": 35,
   "metadata": {},
   "outputs": [
    {
     "data": {
      "text/plain": [
       "1500"
      ]
     },
     "execution_count": 35,
     "metadata": {},
     "output_type": "execute_result"
    }
   ],
   "source": [
    "len(package)"
   ]
  },
  {
   "cell_type": "code",
   "execution_count": 6,
   "metadata": {},
   "outputs": [],
   "source": [
    "import pandas as pd\n",
    "train_df = pd.read_csv('./dataset/train.csv')\n",
    "raw_data = train_df[train_df['building_id'].apply(lambda x:x==1)&\n",
    "             train_df['meter_reading'].apply(lambda x:x>0)&\n",
    "             train_df['meter'].apply(lambda x:x==0)]"
   ]
  },
  {
   "cell_type": "code",
   "execution_count": 7,
   "metadata": {},
   "outputs": [],
   "source": [
    "class RTTData(Dataset):\n",
    "    def __init__(self, root_dir, history_len=10, forecast_len=1, interval=5, train=True):\n",
    "    \n",
    "        self.history_len = history_len\n",
    "        self.forecast_len = forecast_len\n",
    "        self.interval = interval\n",
    "        train_df = pandas.read_csv(root_dir+'server.csv')\n",
    "        self.raw_data = train_df.values[:,1]\n",
    "       \n",
    "        split_index = int(len(self.raw_data)*0.7)\n",
    "#         print('split_index is ',split_index)\n",
    "        if(train==True):\n",
    "            self.raw_data = self.raw_data[200:split_index].astype('float32')\n",
    "#             print('trainset raw_data size: ', len(self.raw_data))\n",
    "        else:\n",
    "            self.raw_data = self.raw_data[split_index:].astype('float32')\n",
    "#             print('testset raw_data size: ', len(self.raw_data))\n",
    "        self.len = int((self.raw_data.shape[0]-self.history_len-self.forecast_len)/self.interval)+1\n",
    "    \n",
    "    def __getitem__(self, index):\n",
    "        if(index<self.len):\n",
    "            x_start = self.interval*index\n",
    "            y_start = x_start+self.history_len\n",
    "            x_data = torch.from_numpy(self.raw_data[x_start:x_start+self.history_len])\n",
    "            y_reg = torch.from_numpy(self.raw_data[y_start:y_start+self.forecast_len]) \n",
    "            \n",
    "            y_future = self.raw_data[y_start:y_start+5]\n",
    "            if(y_future[0]>x_data[-1] and y_future[1]>y_future[0] and y_future[2]>y_future[1]):\n",
    "            #if(y_future[0]>x_data[-1] and y_future[1]>x_data[-1] and y_future[2]>x_data[-1]):\n",
    "                y_cla = torch.tensor(1)\n",
    "            else:\n",
    "                y_cla = torch.tensor(0)\n",
    "            return x_data, (y_reg, y_cla)\n",
    "        else:\n",
    "            return None\n",
    "    \n",
    "    def __len__(self):\n",
    "        return self.len\n",
    "    "
   ]
  },
  {
   "cell_type": "code",
   "execution_count": 8,
   "metadata": {},
   "outputs": [],
   "source": [
    "dataset = RTTData('dataset/')"
   ]
  },
  {
   "cell_type": "code",
   "execution_count": 12,
   "metadata": {},
   "outputs": [
    {
     "name": "stdout",
     "output_type": "stream",
     "text": [
      "(tensor([871.3520, 686.8860, 547.6130, 563.1110, 539.9760, 362.8690, 376.5720,\n",
      "        255.3820, 238.1110, 219.2210]), (tensor([225.3110]), tensor(0)))\n"
     ]
    }
   ],
   "source": [
    "print(dataset[2])"
   ]
  },
  {
   "cell_type": "code",
   "execution_count": null,
   "metadata": {},
   "outputs": [],
   "source": []
  }
 ],
 "metadata": {
  "kernelspec": {
   "display_name": "Python 3",
   "language": "python",
   "name": "python3"
  },
  "language_info": {
   "codemirror_mode": {
    "name": "ipython",
    "version": 3
   },
   "file_extension": ".py",
   "mimetype": "text/x-python",
   "name": "python",
   "nbconvert_exporter": "python",
   "pygments_lexer": "ipython3",
   "version": "3.6.9"
  }
 },
 "nbformat": 4,
 "nbformat_minor": 4
}
